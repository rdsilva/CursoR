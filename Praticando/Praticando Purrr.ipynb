{
 "cells": [
  {
   "cell_type": "code",
   "execution_count": 1,
   "metadata": {},
   "outputs": [],
   "source": [
    "# install.packages(\"purrr\")"
   ]
  },
  {
   "cell_type": "code",
   "execution_count": 2,
   "metadata": {},
   "outputs": [],
   "source": [
    "library(purrr)"
   ]
  },
  {
   "cell_type": "code",
   "execution_count": 3,
   "metadata": {},
   "outputs": [
    {
     "name": "stderr",
     "output_type": "stream",
     "text": [
      "\n",
      "Attaching package: ‘lubridate’\n",
      "\n",
      "The following object is masked from ‘package:base’:\n",
      "\n",
      "    date\n",
      "\n"
     ]
    }
   ],
   "source": [
    "library(lubridate)"
   ]
  },
  {
   "cell_type": "code",
   "execution_count": 4,
   "metadata": {},
   "outputs": [],
   "source": [
    "soma_um <- function(x) { x + 1 }"
   ]
  },
  {
   "cell_type": "code",
   "execution_count": 5,
   "metadata": {},
   "outputs": [
    {
     "name": "stderr",
     "output_type": "stream",
     "text": [
      "Warning message in C_valid_tz(tzone):\n",
      "“System timezone name is unknown. Please set environment variable TZ.”"
     ]
    },
    {
     "data": {
      "text/html": [
       "<ol class=list-inline>\n",
       "\t<li>11</li>\n",
       "\t<li>12</li>\n",
       "\t<li>13</li>\n",
       "\t<li>14</li>\n",
       "\t<li>15</li>\n",
       "\t<li>16</li>\n",
       "</ol>\n"
      ],
      "text/latex": [
       "\\begin{enumerate*}\n",
       "\\item 11\n",
       "\\item 12\n",
       "\\item 13\n",
       "\\item 14\n",
       "\\item 15\n",
       "\\item 16\n",
       "\\end{enumerate*}\n"
      ],
      "text/markdown": [
       "1. 11\n",
       "2. 12\n",
       "3. 13\n",
       "4. 14\n",
       "5. 15\n",
       "6. 16\n",
       "\n",
       "\n"
      ],
      "text/plain": [
       "[1] 11 12 13 14 15 16"
      ]
     },
     "metadata": {},
     "output_type": "display_data"
    },
    {
     "data": {
      "text/plain": [
       "Time difference of 0.02791595 secs"
      ]
     },
     "metadata": {},
     "output_type": "display_data"
    }
   ],
   "source": [
    "obj <- 10:15\n",
    "t1 <- now()\n",
    "for (i in seq_along(obj)) {\n",
    "  obj[i] <- soma_um(obj[i])\n",
    "}\n",
    "t2 <- now()\n",
    "obj\n",
    "\n",
    "t2 - t1"
   ]
  },
  {
   "cell_type": "code",
   "execution_count": 6,
   "metadata": {},
   "outputs": [
    {
     "data": {
      "text/html": [
       "<ol>\n",
       "\t<li>11</li>\n",
       "\t<li>12</li>\n",
       "\t<li>13</li>\n",
       "\t<li>14</li>\n",
       "\t<li>15</li>\n",
       "\t<li>16</li>\n",
       "</ol>\n"
      ],
      "text/latex": [
       "\\begin{enumerate}\n",
       "\\item 11\n",
       "\\item 12\n",
       "\\item 13\n",
       "\\item 14\n",
       "\\item 15\n",
       "\\item 16\n",
       "\\end{enumerate}\n"
      ],
      "text/markdown": [
       "1. 11\n",
       "2. 12\n",
       "3. 13\n",
       "4. 14\n",
       "5. 15\n",
       "6. 16\n",
       "\n",
       "\n"
      ],
      "text/plain": [
       "[[1]]\n",
       "[1] 11\n",
       "\n",
       "[[2]]\n",
       "[1] 12\n",
       "\n",
       "[[3]]\n",
       "[1] 13\n",
       "\n",
       "[[4]]\n",
       "[1] 14\n",
       "\n",
       "[[5]]\n",
       "[1] 15\n",
       "\n",
       "[[6]]\n",
       "[1] 16\n"
      ]
     },
     "metadata": {},
     "output_type": "display_data"
    },
    {
     "data": {
      "text/plain": [
       "Time difference of 0.006315947 secs"
      ]
     },
     "metadata": {},
     "output_type": "display_data"
    }
   ],
   "source": [
    "obj <- 10:15\n",
    "t3 <- now()\n",
    "obj <- map(obj, soma_um)\n",
    "t4 <- now()\n",
    "obj\n",
    "\n",
    "t4 - t3"
   ]
  },
  {
   "cell_type": "code",
   "execution_count": 7,
   "metadata": {},
   "outputs": [
    {
     "data": {
      "text/html": [
       "<ol class=list-inline>\n",
       "\t<li>11</li>\n",
       "\t<li>12</li>\n",
       "\t<li>13</li>\n",
       "\t<li>14</li>\n",
       "\t<li>15</li>\n",
       "\t<li>16</li>\n",
       "</ol>\n"
      ],
      "text/latex": [
       "\\begin{enumerate*}\n",
       "\\item 11\n",
       "\\item 12\n",
       "\\item 13\n",
       "\\item 14\n",
       "\\item 15\n",
       "\\item 16\n",
       "\\end{enumerate*}\n"
      ],
      "text/markdown": [
       "1. 11\n",
       "2. 12\n",
       "3. 13\n",
       "4. 14\n",
       "5. 15\n",
       "6. 16\n",
       "\n",
       "\n"
      ],
      "text/plain": [
       "[1] 11 12 13 14 15 16"
      ]
     },
     "metadata": {},
     "output_type": "display_data"
    },
    {
     "data": {
      "text/plain": [
       "Time difference of 0.01518297 secs"
      ]
     },
     "metadata": {},
     "output_type": "display_data"
    }
   ],
   "source": [
    "obj <- 10:15\n",
    "t5 <- now()\n",
    "obj <- map_dbl(obj, soma_um)\n",
    "t6 <- now()\n",
    "obj\n",
    "t6 - t5"
   ]
  },
  {
   "cell_type": "code",
   "execution_count": 8,
   "metadata": {},
   "outputs": [
    {
     "data": {
      "text/html": [
       "<ol class=list-inline>\n",
       "\t<li>12</li>\n",
       "\t<li>13</li>\n",
       "\t<li>14</li>\n",
       "\t<li>15</li>\n",
       "\t<li>16</li>\n",
       "\t<li>17</li>\n",
       "</ol>\n"
      ],
      "text/latex": [
       "\\begin{enumerate*}\n",
       "\\item 12\n",
       "\\item 13\n",
       "\\item 14\n",
       "\\item 15\n",
       "\\item 16\n",
       "\\item 17\n",
       "\\end{enumerate*}\n"
      ],
      "text/markdown": [
       "1. 12\n",
       "2. 13\n",
       "3. 14\n",
       "4. 15\n",
       "5. 16\n",
       "6. 17\n",
       "\n",
       "\n"
      ],
      "text/plain": [
       "[1] 12 13 14 15 16 17"
      ]
     },
     "metadata": {},
     "output_type": "display_data"
    },
    {
     "data": {
      "text/plain": [
       "Time difference of 0.01733494 secs"
      ]
     },
     "metadata": {},
     "output_type": "display_data"
    }
   ],
   "source": [
    "soma_n <- function(x, n = 1) { x + n }\n",
    "obj <- 10:15\n",
    "\n",
    "t7 <- now()\n",
    "obj <- map_dbl(obj, ~soma_n(.x, 2))\n",
    "t8 <- now()\n",
    "\n",
    "obj\n",
    "t8 - t7"
   ]
  },
  {
   "cell_type": "code",
   "execution_count": 9,
   "metadata": {},
   "outputs": [
    {
     "data": {
      "text/html": [
       "<ol class=list-inline>\n",
       "\t<li>12</li>\n",
       "\t<li>13</li>\n",
       "\t<li>14</li>\n",
       "\t<li>15</li>\n",
       "\t<li>16</li>\n",
       "\t<li>17</li>\n",
       "</ol>\n"
      ],
      "text/latex": [
       "\\begin{enumerate*}\n",
       "\\item 12\n",
       "\\item 13\n",
       "\\item 14\n",
       "\\item 15\n",
       "\\item 16\n",
       "\\item 17\n",
       "\\end{enumerate*}\n"
      ],
      "text/markdown": [
       "1. 12\n",
       "2. 13\n",
       "3. 14\n",
       "4. 15\n",
       "5. 16\n",
       "6. 17\n",
       "\n",
       "\n"
      ],
      "text/plain": [
       "[1] 12 13 14 15 16 17"
      ]
     },
     "metadata": {},
     "output_type": "display_data"
    },
    {
     "data": {
      "text/plain": [
       "Time difference of 0.004962921 secs"
      ]
     },
     "metadata": {},
     "output_type": "display_data"
    }
   ],
   "source": [
    "obj <- 10:15\n",
    "\n",
    "t9 <- now()\n",
    "obj <- map_dbl(obj, soma_n, n = 2)\n",
    "t10 <- now()\n",
    "\n",
    "obj\n",
    "t10 - t9"
   ]
  },
  {
   "cell_type": "code",
   "execution_count": 11,
   "metadata": {},
   "outputs": [
    {
     "data": {
      "text/html": [
       "<ol class=list-inline>\n",
       "\t<li>12</li>\n",
       "\t<li>13</li>\n",
       "\t<li>14</li>\n",
       "\t<li>15</li>\n",
       "\t<li>16</li>\n",
       "\t<li>17</li>\n",
       "</ol>\n"
      ],
      "text/latex": [
       "\\begin{enumerate*}\n",
       "\\item 12\n",
       "\\item 13\n",
       "\\item 14\n",
       "\\item 15\n",
       "\\item 16\n",
       "\\item 17\n",
       "\\end{enumerate*}\n"
      ],
      "text/markdown": [
       "1. 12\n",
       "2. 13\n",
       "3. 14\n",
       "4. 15\n",
       "5. 16\n",
       "6. 17\n",
       "\n",
       "\n"
      ],
      "text/plain": [
       "[1] 12 13 14 15 16 17"
      ]
     },
     "metadata": {},
     "output_type": "display_data"
    },
    {
     "data": {
      "text/plain": [
       "Time difference of 0.003796101 secs"
      ]
     },
     "metadata": {},
     "output_type": "display_data"
    }
   ],
   "source": [
    "obj <- 10:15\n",
    "\n",
    "t11 <- now()\n",
    "obj <- obj+2\n",
    "t12 <- now()\n",
    "\n",
    "obj\n",
    "t12 - t11\n"
   ]
  },
  {
   "cell_type": "code",
   "execution_count": 13,
   "metadata": {},
   "outputs": [
    {
     "data": {
      "text/html": [
       "<ol>\n",
       "\t<li>12</li>\n",
       "\t<li>13</li>\n",
       "\t<li>14</li>\n",
       "\t<li>15</li>\n",
       "\t<li>16</li>\n",
       "\t<li>17</li>\n",
       "</ol>\n"
      ],
      "text/latex": [
       "\\begin{enumerate}\n",
       "\\item 12\n",
       "\\item 13\n",
       "\\item 14\n",
       "\\item 15\n",
       "\\item 16\n",
       "\\item 17\n",
       "\\end{enumerate}\n"
      ],
      "text/markdown": [
       "1. 12\n",
       "2. 13\n",
       "3. 14\n",
       "4. 15\n",
       "5. 16\n",
       "6. 17\n",
       "\n",
       "\n"
      ],
      "text/plain": [
       "[[1]]\n",
       "[1] 12\n",
       "\n",
       "[[2]]\n",
       "[1] 13\n",
       "\n",
       "[[3]]\n",
       "[1] 14\n",
       "\n",
       "[[4]]\n",
       "[1] 15\n",
       "\n",
       "[[5]]\n",
       "[1] 16\n",
       "\n",
       "[[6]]\n",
       "[1] 17\n"
      ]
     },
     "metadata": {},
     "output_type": "display_data"
    },
    {
     "data": {
      "text/plain": [
       "Time difference of 0.01249385 secs"
      ]
     },
     "metadata": {},
     "output_type": "display_data"
    }
   ],
   "source": [
    "obj <- 10:15\n",
    "\n",
    "t11 <- now()\n",
    "obj <- map(obj, ~.x+2)\n",
    "t12 <- now()\n",
    "\n",
    "obj\n",
    "t12 - t11\n"
   ]
  },
  {
   "cell_type": "markdown",
   "metadata": {},
   "source": [
    "___"
   ]
  },
  {
   "cell_type": "code",
   "execution_count": 12,
   "metadata": {},
   "outputs": [
    {
     "data": {
      "text/html": [
       "<ol class=list-inline>\n",
       "\t<li>30</li>\n",
       "\t<li>32</li>\n",
       "\t<li>34</li>\n",
       "\t<li>36</li>\n",
       "\t<li>38</li>\n",
       "\t<li>40</li>\n",
       "</ol>\n"
      ],
      "text/latex": [
       "\\begin{enumerate*}\n",
       "\\item 30\n",
       "\\item 32\n",
       "\\item 34\n",
       "\\item 36\n",
       "\\item 38\n",
       "\\item 40\n",
       "\\end{enumerate*}\n"
      ],
      "text/markdown": [
       "1. 30\n",
       "2. 32\n",
       "3. 34\n",
       "4. 36\n",
       "5. 38\n",
       "6. 40\n",
       "\n",
       "\n"
      ],
      "text/plain": [
       "[1] 30 32 34 36 38 40"
      ]
     },
     "metadata": {},
     "output_type": "display_data"
    },
    {
     "data": {
      "text/plain": [
       "Time difference of 0.02164412 secs"
      ]
     },
     "metadata": {},
     "output_type": "display_data"
    }
   ],
   "source": [
    "obj_1 <- 10:15\n",
    "obj_2 <- 20:25\n",
    "\n",
    "t13 <- now()\n",
    "res <- map2_dbl(obj_1, obj_2, ~.x+.y)\n",
    "t14 <- now()\n",
    "\n",
    "res\n",
    "t14 - t13"
   ]
  },
  {
   "cell_type": "code",
   "execution_count": 17,
   "metadata": {},
   "outputs": [
    {
     "data": {
      "text/html": [
       "<ol class=list-inline>\n",
       "\t<li>60</li>\n",
       "\t<li>63</li>\n",
       "\t<li>66</li>\n",
       "\t<li>69</li>\n",
       "\t<li>72</li>\n",
       "\t<li>75</li>\n",
       "</ol>\n"
      ],
      "text/latex": [
       "\\begin{enumerate*}\n",
       "\\item 60\n",
       "\\item 63\n",
       "\\item 66\n",
       "\\item 69\n",
       "\\item 72\n",
       "\\item 75\n",
       "\\end{enumerate*}\n"
      ],
      "text/markdown": [
       "1. 60\n",
       "2. 63\n",
       "3. 66\n",
       "4. 69\n",
       "5. 72\n",
       "6. 75\n",
       "\n",
       "\n"
      ],
      "text/plain": [
       "[1] 60 63 66 69 72 75"
      ]
     },
     "metadata": {},
     "output_type": "display_data"
    },
    {
     "data": {
      "text/plain": [
       "Time difference of 0.01379204 secs"
      ]
     },
     "metadata": {},
     "output_type": "display_data"
    }
   ],
   "source": [
    "soma_varios <- function(x, y, z) { x + y + z }\n",
    "obj_1 <- 10:15\n",
    "obj_2 <- 20:25\n",
    "obj_3 <- 30:35\n",
    "\n",
    "t14 <- now()\n",
    "obj_1 <- pmap_dbl(list(obj_1, obj_2, obj_3), soma_varios)\n",
    "t15 <- now()\n",
    "\n",
    "obj_1\n",
    "t15 - t14"
   ]
  },
  {
   "cell_type": "code",
   "execution_count": 18,
   "metadata": {},
   "outputs": [
    {
     "data": {
      "text/html": [
       "<ol class=list-inline>\n",
       "\t<li>11</li>\n",
       "\t<li>13</li>\n",
       "\t<li>15</li>\n",
       "\t<li>17</li>\n",
       "\t<li>19</li>\n",
       "\t<li>21</li>\n",
       "</ol>\n"
      ],
      "text/latex": [
       "\\begin{enumerate*}\n",
       "\\item 11\n",
       "\\item 13\n",
       "\\item 15\n",
       "\\item 17\n",
       "\\item 19\n",
       "\\item 21\n",
       "\\end{enumerate*}\n"
      ],
      "text/markdown": [
       "1. 11\n",
       "2. 13\n",
       "3. 15\n",
       "4. 17\n",
       "5. 19\n",
       "6. 21\n",
       "\n",
       "\n"
      ],
      "text/plain": [
       "[1] 11 13 15 17 19 21"
      ]
     },
     "metadata": {},
     "output_type": "display_data"
    },
    {
     "data": {
      "text/plain": [
       "Time difference of 0.008646965 secs"
      ]
     },
     "metadata": {},
     "output_type": "display_data"
    }
   ],
   "source": [
    "obj <- 10:15\n",
    "\n",
    "t16 <- now()\n",
    "res <- imap_dbl(obj, ~.x+.y)\n",
    "t17 <- now()\n",
    "\n",
    "res\n",
    "\n",
    "t17 - t16"
   ]
  },
  {
   "cell_type": "code",
   "execution_count": 20,
   "metadata": {},
   "outputs": [
    {
     "data": {
      "text/html": [
       "<ol class=list-inline>\n",
       "\t<li>13</li>\n",
       "\t<li>15</li>\n",
       "\t<li>17</li>\n",
       "\t<li>19</li>\n",
       "\t<li>21</li>\n",
       "\t<li>23</li>\n",
       "</ol>\n"
      ],
      "text/latex": [
       "\\begin{enumerate*}\n",
       "\\item 13\n",
       "\\item 15\n",
       "\\item 17\n",
       "\\item 19\n",
       "\\item 21\n",
       "\\item 23\n",
       "\\end{enumerate*}\n"
      ],
      "text/markdown": [
       "1. 13\n",
       "2. 15\n",
       "3. 17\n",
       "4. 19\n",
       "5. 21\n",
       "6. 23\n",
       "\n",
       "\n"
      ],
      "text/plain": [
       "[1] 13 15 17 19 21 23"
      ]
     },
     "metadata": {},
     "output_type": "display_data"
    },
    {
     "data": {
      "text/plain": [
       "Time difference of 0.01048779 secs"
      ]
     },
     "metadata": {},
     "output_type": "display_data"
    }
   ],
   "source": [
    "obj <- 10:15\n",
    "\n",
    "t18 <- now()\n",
    "res <- imap_dbl(obj, ~.x+.y+2)\n",
    "t19 <- now()\n",
    "\n",
    "res\n",
    "\n",
    "t19 - t18"
   ]
  },
  {
   "cell_type": "markdown",
   "metadata": {},
   "source": [
    "____"
   ]
  },
  {
   "cell_type": "code",
   "execution_count": 21,
   "metadata": {},
   "outputs": [],
   "source": [
    "dobra <- function(x) { x*2 }"
   ]
  },
  {
   "cell_type": "code",
   "execution_count": 22,
   "metadata": {},
   "outputs": [
    {
     "data": {
      "text/html": [
       "<ol class=list-inline>\n",
       "\t<li>10</li>\n",
       "\t<li>22</li>\n",
       "\t<li>12</li>\n",
       "\t<li>26</li>\n",
       "\t<li>14</li>\n",
       "\t<li>30</li>\n",
       "</ol>\n"
      ],
      "text/latex": [
       "\\begin{enumerate*}\n",
       "\\item 10\n",
       "\\item 22\n",
       "\\item 12\n",
       "\\item 26\n",
       "\\item 14\n",
       "\\item 30\n",
       "\\end{enumerate*}\n"
      ],
      "text/markdown": [
       "1. 10\n",
       "2. 22\n",
       "3. 12\n",
       "4. 26\n",
       "5. 14\n",
       "6. 30\n",
       "\n",
       "\n"
      ],
      "text/plain": [
       "[1] 10 22 12 26 14 30"
      ]
     },
     "metadata": {},
     "output_type": "display_data"
    },
    {
     "data": {
      "text/plain": [
       "Time difference of 0.01797605 secs"
      ]
     },
     "metadata": {},
     "output_type": "display_data"
    }
   ],
   "source": [
    "\n",
    "obj <- 10:15\n",
    "t19 <- now()\n",
    "for (i in seq_along(obj)) {\n",
    "  if (obj[i] %% 2 == 1) { obj[i] <- dobra(obj[i]) }\n",
    "  else                  { obj[i] <- obj[i] }\n",
    "}\n",
    "t20 <- now()\n",
    "\n",
    "obj\n",
    "t20 - t19"
   ]
  },
  {
   "cell_type": "code",
   "execution_count": 23,
   "metadata": {},
   "outputs": [],
   "source": [
    "eh_impar <- function(x) { x%%2 == 1 }"
   ]
  },
  {
   "cell_type": "code",
   "execution_count": 26,
   "metadata": {},
   "outputs": [
    {
     "name": "stdout",
     "output_type": "stream",
     "text": [
      "List of 6\n",
      " $ : int 10\n",
      " $ : num 22\n",
      " $ : int 12\n",
      " $ : num 26\n",
      " $ : int 14\n",
      " $ : num 30\n"
     ]
    },
    {
     "data": {
      "text/plain": [
       "Time difference of 0.004441977 secs"
      ]
     },
     "metadata": {},
     "output_type": "display_data"
    }
   ],
   "source": [
    "obj <- 10:15\n",
    "\n",
    "t21 <- now()\n",
    "res <- map_if(obj, eh_impar, dobra)\n",
    "t22 <- now()\n",
    "\n",
    "str(res)\n",
    "\n",
    "t22 - t21"
   ]
  },
  {
   "cell_type": "code",
   "execution_count": 27,
   "metadata": {},
   "outputs": [
    {
     "name": "stdout",
     "output_type": "stream",
     "text": [
      " num [1:6] 10 22 12 26 14 30\n"
     ]
    },
    {
     "data": {
      "text/plain": [
       "Time difference of 0.003026009 secs"
      ]
     },
     "metadata": {},
     "output_type": "display_data"
    }
   ],
   "source": [
    "obj <- 10:15\n",
    "\n",
    "t23 <- now()\n",
    "res <- map_if(obj, eh_impar, dobra) %>% flatten_dbl()\n",
    "t24 <- now()\n",
    "\n",
    "str(res)\n",
    "\n",
    "t24 - t23"
   ]
  },
  {
   "cell_type": "code",
   "execution_count": 28,
   "metadata": {},
   "outputs": [
    {
     "data": {
      "text/html": [
       "<ol class=list-inline>\n",
       "\t<li>10</li>\n",
       "\t<li>22</li>\n",
       "\t<li>12</li>\n",
       "\t<li>26</li>\n",
       "\t<li>14</li>\n",
       "\t<li>30</li>\n",
       "</ol>\n"
      ],
      "text/latex": [
       "\\begin{enumerate*}\n",
       "\\item 10\n",
       "\\item 22\n",
       "\\item 12\n",
       "\\item 26\n",
       "\\item 14\n",
       "\\item 30\n",
       "\\end{enumerate*}\n"
      ],
      "text/markdown": [
       "1. 10\n",
       "2. 22\n",
       "3. 12\n",
       "4. 26\n",
       "5. 14\n",
       "6. 30\n",
       "\n",
       "\n"
      ],
      "text/plain": [
       "[1] 10 22 12 26 14 30"
      ]
     },
     "metadata": {},
     "output_type": "display_data"
    },
    {
     "data": {
      "text/plain": [
       "Time difference of 0.01844907 secs"
      ]
     },
     "metadata": {},
     "output_type": "display_data"
    }
   ],
   "source": [
    "obj <- 10:15\n",
    "\n",
    "t25 <- now()\n",
    "res <- map_if(obj, ~.x%%2 == 1, ~.x*2) %>% flatten_dbl()\n",
    "t26 <- now()\n",
    "\n",
    "res\n",
    "\n",
    "t26 - t25"
   ]
  },
  {
   "cell_type": "code",
   "execution_count": 29,
   "metadata": {},
   "outputs": [
    {
     "data": {
      "text/html": [
       "<ol class=list-inline>\n",
       "\t<li>10</li>\n",
       "\t<li>22</li>\n",
       "\t<li>12</li>\n",
       "\t<li>26</li>\n",
       "\t<li>14</li>\n",
       "\t<li>30</li>\n",
       "</ol>\n"
      ],
      "text/latex": [
       "\\begin{enumerate*}\n",
       "\\item 10\n",
       "\\item 22\n",
       "\\item 12\n",
       "\\item 26\n",
       "\\item 14\n",
       "\\item 30\n",
       "\\end{enumerate*}\n"
      ],
      "text/markdown": [
       "1. 10\n",
       "2. 22\n",
       "3. 12\n",
       "4. 26\n",
       "5. 14\n",
       "6. 30\n",
       "\n",
       "\n"
      ],
      "text/plain": [
       "[1] 10 22 12 26 14 30"
      ]
     },
     "metadata": {},
     "output_type": "display_data"
    },
    {
     "data": {
      "text/plain": [
       "Time difference of 0.01221395 secs"
      ]
     },
     "metadata": {},
     "output_type": "display_data"
    }
   ],
   "source": [
    "obj <- 10:15\n",
    "\n",
    "t27 <- now()\n",
    "res <- map_at(obj, c(2, 4, 6), ~.x*2) %>% flatten_dbl()\n",
    "t28 <- now()\n",
    "\n",
    "res\n",
    "t28 - t27"
   ]
  },
  {
   "cell_type": "markdown",
   "metadata": {},
   "source": [
    "___"
   ]
  },
  {
   "cell_type": "code",
   "execution_count": 31,
   "metadata": {},
   "outputs": [],
   "source": [
    "obj <- list(list(a = 1, b = 2, c = 3), list(a = 4, b = 5, c = 6))"
   ]
  },
  {
   "cell_type": "code",
   "execution_count": 32,
   "metadata": {},
   "outputs": [
    {
     "data": {
      "text/html": [
       "5"
      ],
      "text/latex": [
       "5"
      ],
      "text/markdown": [
       "5"
      ],
      "text/plain": [
       "[1] 5"
      ]
     },
     "metadata": {},
     "output_type": "display_data"
    }
   ],
   "source": [
    "pluck(obj, 2, \"b\")"
   ]
  },
  {
   "cell_type": "code",
   "execution_count": 34,
   "metadata": {},
   "outputs": [
    {
     "data": {
      "text/plain": [
       "$result\n",
       "[1] 0\n",
       "\n",
       "$error\n",
       "<simpleError in x + 1: non-numeric argument to binary operator>\n"
      ]
     },
     "metadata": {},
     "output_type": "display_data"
    }
   ],
   "source": [
    "soma_um <- function(x) { x + 1 }\n",
    "s_soma_um <- safely(soma_um, 0)\n",
    "obj <- c(10, 11, \"a\", 13, 14, 15)\n",
    "\n",
    "s_soma_um(obj)"
   ]
  },
  {
   "cell_type": "code",
   "execution_count": 36,
   "metadata": {},
   "outputs": [
    {
     "ename": "ERROR",
     "evalue": "Error in x + 1: non-numeric argument to binary operator\n",
     "execution_count": 36,
     "output_type": "error",
     "traceback": [
      "Error in x + 1: non-numeric argument to binary operator\nTraceback:\n",
      "1. s_soma_um(obj)",
      "2. capture_output(.f(...))",
      "3. withCallingHandlers(code, warning = wHandler, message = mHandler)",
      "4. .f(...)"
     ]
    }
   ],
   "source": [
    "soma_um <- function(x) { x + 1 }\n",
    "s_soma_um <- quietly(soma_um)\n",
    "obj <- c(10, 11, \"a\", 13, 14, 15)\n",
    "\n",
    "s_soma_um(obj)"
   ]
  },
  {
   "cell_type": "code",
   "execution_count": 38,
   "metadata": {},
   "outputs": [
    {
     "data": {
      "text/html": [
       "0"
      ],
      "text/latex": [
       "0"
      ],
      "text/markdown": [
       "0"
      ],
      "text/plain": [
       "[1] 0"
      ]
     },
     "metadata": {},
     "output_type": "display_data"
    }
   ],
   "source": [
    "soma_um <- function(x) { x + 1 }\n",
    "s_soma_um <- possibly(soma_um, 0)\n",
    "obj <- c(10, 11, \"a\", 13, 14, 15)\n",
    "\n",
    "s_soma_um(obj)"
   ]
  },
  {
   "cell_type": "code",
   "execution_count": null,
   "metadata": {},
   "outputs": [],
   "source": []
  }
 ],
 "metadata": {
  "kernelspec": {
   "display_name": "R",
   "language": "R",
   "name": "ir"
  },
  "language_info": {
   "codemirror_mode": "r",
   "file_extension": ".r",
   "mimetype": "text/x-r-source",
   "name": "R",
   "pygments_lexer": "r",
   "version": "3.4.2"
  }
 },
 "nbformat": 4,
 "nbformat_minor": 2
}
